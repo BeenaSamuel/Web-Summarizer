{
 "cells": [
  {
   "cell_type": "markdown",
   "metadata": {},
   "source": [
    "# 0. Installing Transformers and Importing Dependencies"
   ]
  },
  {
   "cell_type": "code",
   "execution_count": 1,
   "metadata": {},
   "outputs": [
    {
     "name": "stdout",
     "output_type": "stream",
     "text": [
      "Requirement already satisfied: transformers in c:\\users\\dell\\appdata\\roaming\\python\\python311\\site-packages (4.30.1)\n",
      "Requirement already satisfied: filelock in c:\\users\\dell\\appdata\\roaming\\python\\python311\\site-packages (from transformers) (3.12.1)\n",
      "Requirement already satisfied: huggingface-hub<1.0,>=0.14.1 in c:\\users\\dell\\appdata\\roaming\\python\\python311\\site-packages (from transformers) (0.15.1)\n",
      "Requirement already satisfied: numpy>=1.17 in d:\\anaconda3\\lib\\site-packages (from transformers) (1.25.2)\n",
      "Requirement already satisfied: packaging>=20.0 in d:\\anaconda3\\lib\\site-packages (from transformers) (23.1)\n",
      "Requirement already satisfied: pyyaml>=5.1 in c:\\users\\dell\\appdata\\roaming\\python\\python311\\site-packages (from transformers) (6.0)\n",
      "Requirement already satisfied: regex!=2019.12.17 in c:\\users\\dell\\appdata\\roaming\\python\\python311\\site-packages (from transformers) (2023.6.3)\n",
      "Requirement already satisfied: requests in c:\\users\\dell\\appdata\\roaming\\python\\python311\\site-packages (from transformers) (2.31.0)\n",
      "Requirement already satisfied: tokenizers!=0.11.3,<0.14,>=0.11.1 in d:\\anaconda3\\lib\\site-packages (from transformers) (0.13.3)\n",
      "Requirement already satisfied: safetensors>=0.3.1 in d:\\anaconda3\\lib\\site-packages (from transformers) (0.4.1)\n",
      "Requirement already satisfied: tqdm>=4.27 in c:\\users\\dell\\appdata\\roaming\\python\\python311\\site-packages (from transformers) (4.65.0)\n",
      "Requirement already satisfied: fsspec in c:\\users\\dell\\appdata\\roaming\\python\\python311\\site-packages (from huggingface-hub<1.0,>=0.14.1->transformers) (2023.6.0)\n",
      "Requirement already satisfied: typing-extensions>=3.7.4.3 in d:\\anaconda3\\lib\\site-packages (from huggingface-hub<1.0,>=0.14.1->transformers) (4.7.1)\n",
      "Requirement already satisfied: colorama in c:\\users\\dell\\appdata\\roaming\\python\\python311\\site-packages (from tqdm>=4.27->transformers) (0.4.6)\n",
      "Requirement already satisfied: charset-normalizer<4,>=2 in d:\\anaconda3\\lib\\site-packages (from requests->transformers) (2.0.4)\n",
      "Requirement already satisfied: idna<4,>=2.5 in c:\\users\\dell\\appdata\\roaming\\python\\python311\\site-packages (from requests->transformers) (3.4)\n",
      "Requirement already satisfied: urllib3<3,>=1.21.1 in d:\\anaconda3\\lib\\site-packages (from requests->transformers) (1.26.18)\n",
      "Requirement already satisfied: certifi>=2017.4.17 in d:\\anaconda3\\lib\\site-packages (from requests->transformers) (2023.11.17)\n"
     ]
    }
   ],
   "source": [
    "!pip install transformers"
   ]
  },
  {
   "cell_type": "code",
   "execution_count": 48,
   "metadata": {},
   "outputs": [],
   "source": [
    "from transformers import pipeline\n",
    "from bs4 import BeautifulSoup\n",
    "import requests"
   ]
  },
  {
   "cell_type": "markdown",
   "metadata": {},
   "source": [
    "# 1. Load Summarization Pipeline"
   ]
  },
  {
   "cell_type": "code",
   "execution_count": 49,
   "metadata": {},
   "outputs": [
    {
     "name": "stderr",
     "output_type": "stream",
     "text": [
      "No model was supplied, defaulted to t5-small and revision d769bba (https://huggingface.co/t5-small).\n",
      "Using a pipeline without specifying a model name and revision in production is not recommended.\n",
      "All PyTorch model weights were used when initializing TFT5ForConditionalGeneration.\n",
      "\n",
      "All the weights of TFT5ForConditionalGeneration were initialized from the PyTorch model.\n",
      "If your task is similar to the task the model of the checkpoint was trained on, you can already use TFT5ForConditionalGeneration for predictions without further training.\n"
     ]
    }
   ],
   "source": [
    "summarizer = pipeline(\"summarization\")"
   ]
  },
  {
   "cell_type": "markdown",
   "metadata": {},
   "source": [
    "# 2. Get Blog Post from Medium"
   ]
  },
  {
   "cell_type": "code",
   "execution_count": 44,
   "metadata": {},
   "outputs": [],
   "source": [
    "# URL = \"https://towardsdatascience.com/a-bayesian-take-on-model-regularization-9356116b6457\"\n",
    "# URL = \"https://hackernoon.com/will-the-game-stop-with-gamestop-or-is-this-just-the-beginning-2j1x32aa\"\n",
    "URL = \"https://medium.com/@ai-club/ml101-introduction-to-the-world-of-machine-learning-2-86e32c740b58\""
   ]
  },
  {
   "cell_type": "code",
   "execution_count": 47,
   "metadata": {},
   "outputs": [
    {
     "data": {
      "text/plain": [
       "'https://medium.com/@ai-club/ml101-introduction-to-the-world-of-machine-learning-2-86e32c740b58'"
      ]
     },
     "execution_count": 47,
     "metadata": {},
     "output_type": "execute_result"
    }
   ],
   "source": [
    "URL"
   ]
  },
  {
   "cell_type": "code",
   "execution_count": 50,
   "metadata": {},
   "outputs": [],
   "source": [
    "r = requests.get(URL)"
   ]
  },
  {
   "cell_type": "code",
   "execution_count": 52,
   "metadata": {},
   "outputs": [],
   "source": [
    "soup = BeautifulSoup(r.text, 'html.parser')\n",
    "results = soup.find_all(['h1', 'p'])\n",
    "text = [result.text for result in results]\n",
    "ARTICLE = ' '.join(text)"
   ]
  },
  {
   "cell_type": "code",
   "execution_count": 51,
   "metadata": {},
   "outputs": [
    {
     "data": {
      "text/plain": [
       "<Response [200]>"
      ]
     },
     "execution_count": 51,
     "metadata": {},
     "output_type": "execute_result"
    }
   ],
   "source": [
    "r"
   ]
  },
  {
   "cell_type": "code",
   "execution_count": 54,
   "metadata": {},
   "outputs": [
    {
     "data": {
      "text/plain": [
       "7172"
      ]
     },
     "execution_count": 54,
     "metadata": {},
     "output_type": "execute_result"
    }
   ],
   "source": [
    "len(ARTICLE)"
   ]
  },
  {
   "cell_type": "code",
   "execution_count": 60,
   "metadata": {},
   "outputs": [
    {
     "name": "stdout",
     "output_type": "stream",
     "text": [
      "Sign up Sign in Sign up Sign in ML101: Introduction to the world of Machine Learning — 2 PTU AI CLUB Follow -- Listen Share Authors: Harsha, Sakti Priya V, Yuvarani VD and Apurva Introduction Our last article in the ML101 series by PTU AI CLUB introduced you to the world of machine learning and its infinite use cases.<eos> In this article we will be diving a little deeper into this world by exploring the types of machine learning and the ethical aspects related to machine learning.<eos> We will also be providing you with a roadmap for getting started in this world.<eos> Enough talk, let’s ML!<eos> Types of Machine Learning Based on the methods and way of learning, machine learning is divided into mainly four types, which are: 1.<eos> Supervised Machine Learning2.<eos> Unsupervised Machine Learning3.<eos> Semi-supervised Machine Learning4.<eos> Reinforcement Learning Supervised machine learning is based on supervision.<eos> It means in the supervised learning technique, we train the machines using the “labeled” dataset, and based on the training, the machine predicts the output.<eos> Here, the labeled data specifies that some of the inputs are already mapped to the output.<eos> More precisely, we can say; first, we train the machine with the input and corresponding output, and then we ask the machine to predict the output using the test dataset.<eos> Analogy: Imagine a kid is shown with some colored balls and the mother tells the color of each ball(here the objects are labeled(colors are told to the kid); the baby knows what is the output(color of each ball)-(supervised learning and the mother is the supervisor).<eos>so the next time the kid is shown with a colored ball it must be able to identify the color.<eos> Unsupervised learning is different from the Supervised learning technique; as its name suggests, there is no need for supervision.<eos> It means, in unsupervised machine learning, the machine is trained using the unlabeled dataset, and the machine predicts the output without any supervision.<eos> In unsupervised learning, the models are trained with the data that is neither classified nor labelled, and the model acts on that data without any supervision.<eos> The main aim of the unsupervised learning algorithm is to group or categories the unsorted dataset according to the similarities, patterns, and differences.<eos> Machines are instructed to find the hidden patterns from the input dataset.<eos> Analogy: Let’s continue with the same analogy as supervised learning.<eos> But this time, the kid isn’t told about the actual color of the ball.<eos> The kid has to group the balls of similar colors without being specific about the name of the color.<eos> To overcome the drawbacks of supervised learning and unsupervised learning algorithms, the concept of Semi-supervised learning is introduced.<eos> The main aim of semi-supervised learning is to effectively use all the available data, rather than only labeled data like in supervised learning.<eos> Initially, similar data is clustered along with an unsupervised learning algorithm, and further, it helps to label the unlabeled data into labeled data.<eos> It is because labeled data is a comparatively more expensive acquisition than unlabeled data.<eos> Analogy: We can imagine these algorithms with an example.<eos> Supervised learning is where a student is under the supervision of an instructor at home and college.<eos> Further, if that student is self-analyzing the same concept without any help from the instructor, it comes under unsupervised learning.<eos> Under semi-supervised learning, the student has to revise himself after analyzing the same concept under the guidance of an instructor at college.<eos> Reinforcement learning works on a feedback-based process, in which an AI agent (A software component) automatically explores its surroundings by hitting & trail, taking action, learning from experiences, and improving its performance.<eos> Agent gets rewarded for each good action and get punished for each bad action; hence the goal of reinforcement learning agent is to maximize the rewards.<eos> In reinforcement learning, there is no labeled data like supervised learning, and agents learn from their experiences only.<eos> Analogy: A child learns various things by experiences in his day-to-day life.<eos> An example of reinforcement learning is to play a game, where the Game is the environment, moves of an agent at each step define states, and the goal of the agent is to get a high score.<eos> Agent receives feedback in terms of punishment and rewards.<eos> The Ethical Aspect Machine learning is a powerful technology that is transforming our world, but with great power comes great responsibility.<eos> Ethical considerations are crucial when it comes to machine learning, as it poses significant risks and ethical dilemmas that must be addressed.<eos> One question that arises is the issue of bias in machine learning algorithms.<eos> Biases in the data used to train algorithms can lead to unfair and discriminatory outcomes in areas such as hiring, lending, and criminal justice.<eos> To tackle this, we must ensure that the data used to train algorithms is diverse, representative, and free from biases.<eos> Transparency is another crucial ethical concern.<eos> It can be tough to understand how machine learning models arrive at their decisions, raising questions about accountability.<eos> To address this issue, efforts are being made to develop interpretable machine learning models that can provide explanations for their decisions.<eos> Privacy is another significant ethical consideration in machine learning.<eos> As algorithms analyze vast amounts of personal Getting Started… Now that you have a better understanding of machine learning and its importance in various industries, you might be wondering how you can get started with this exciting field.<eos> Don’t worry, we’ve got you covered!<eos> The Future Scope As we continue to witness the incredible progress made by machine learning, it’s hard not to get excited about the future possibilities that this technology holds.<eos> From healthcare to finance, and transportation to education, machine learning has the power to revolutionize the way we live our lives and interact with the world around us.<eos> Imagine a world where doctors have access to vast amounts of medical data, allowing them to make more accurate diagnoses and better treatment plans for their patients.<eos> Or a world where financial fraud is detected and prevented in real-time, making our financial systems more secure than ever before.<eos> And what about self-driving cars that can reduce traffic congestion, increase transportation efficiency, and make our commutes safer and more enjoyable?<eos> But as with any new technology, it’s important to consider the potential ethical implications and risks associated with machine learning.<eos> Bias in algorithms, lack of transparency, and privacy concerns must be addressed to ensure that we use this technology in an ethical and responsible manner.<eos> So let’s embrace the awe-inspiring potential of machine learning, while also taking the necessary steps to ensure that it benefits society as a whole, and not just a select few.<eos> The PTU AI CLUB will be coming out with more articles under the ML101 series in this spirit.<eos> -- -- Unleashing AI Help Status About Careers Blog Privacy Terms Text to speech Teams\n"
     ]
    }
   ],
   "source": [
    "print(ARTICLE)"
   ]
  },
  {
   "cell_type": "markdown",
   "metadata": {},
   "source": [
    "# 3. Chunk Text"
   ]
  },
  {
   "cell_type": "code",
   "execution_count": 61,
   "metadata": {},
   "outputs": [],
   "source": [
    "max_chunk = 500"
   ]
  },
  {
   "cell_type": "code",
   "execution_count": 62,
   "metadata": {},
   "outputs": [],
   "source": [
    "ARTICLE = ARTICLE.replace('.', '.<eos>')\n",
    "ARTICLE = ARTICLE.replace('?', '?<eos>')\n",
    "ARTICLE = ARTICLE.replace('!', '!<eos>')"
   ]
  },
  {
   "cell_type": "code",
   "execution_count": 63,
   "metadata": {},
   "outputs": [
    {
     "name": "stdout",
     "output_type": "stream",
     "text": [
      "0\n"
     ]
    }
   ],
   "source": [
    "sentences = ARTICLE.split('<eos>')\n",
    "current_chunk = 0 \n",
    "chunks = []\n",
    "for sentence in sentences:\n",
    "    if len(chunks) == current_chunk + 1: \n",
    "        if len(chunks[current_chunk]) + len(sentence.split(' ')) <= max_chunk:\n",
    "            chunks[current_chunk].extend(sentence.split(' '))\n",
    "        else:\n",
    "            current_chunk += 1\n",
    "            chunks.append(sentence.split(' '))\n",
    "    else:\n",
    "        print(current_chunk)\n",
    "        chunks.append(sentence.split(' '))\n",
    "\n",
    "for chunk_id in range(len(chunks)):\n",
    "    chunks[chunk_id] = ' '.join(chunks[chunk_id])"
   ]
  },
  {
   "cell_type": "code",
   "execution_count": 64,
   "metadata": {},
   "outputs": [
    {
     "data": {
      "text/plain": [
       "3"
      ]
     },
     "execution_count": 64,
     "metadata": {},
     "output_type": "execute_result"
    }
   ],
   "source": [
    "len(chunks)"
   ]
  },
  {
   "cell_type": "markdown",
   "metadata": {},
   "source": [
    "# 4. Summarize Text"
   ]
  },
  {
   "cell_type": "code",
   "execution_count": 65,
   "metadata": {},
   "outputs": [],
   "source": [
    "res = summarizer(chunks, max_length=120, min_length=30, do_sample=False)"
   ]
  },
  {
   "cell_type": "code",
   "execution_count": 66,
   "metadata": {},
   "outputs": [
    {
     "data": {
      "text/plain": [
       "{'summary_text': 'the first article in the ML101 series by PTU AI CLUB introduces you to the world of machine learning and its infinite use cases . in this article we will be diving a little deeper into this world by exploring the types of machines and the ethical aspects related to machine learning . the concept of semi-supervised learning is introduced .'}"
      ]
     },
     "execution_count": 66,
     "metadata": {},
     "output_type": "execute_result"
    }
   ],
   "source": [
    "res[0]"
   ]
  },
  {
   "cell_type": "code",
   "execution_count": 67,
   "metadata": {},
   "outputs": [
    {
     "data": {
      "text/plain": [
       "'the first article in the ML101 series by PTU AI CLUB introduces you to the world of machine learning and its infinite use cases . in this article we will be diving a little deeper into this world by exploring the types of machines and the ethical aspects related to machine learning . the concept of semi-supervised learning is introduced . semi-supervised learning is where a student is under the supervision of an instructor . if that student is self-analyzing the same concept, it comes under unsupervised learning . the goal of reinforcement learning agent is to maximize the rewards . machine learning has the power to revolutionize the way we live our lives and interact with the world around us . a world where financial fraud is detected and prevented in real-time, making our financial systems more secure than ever before . it’s important to consider the potential ethical implications and risks associated with machine learning .'"
      ]
     },
     "execution_count": 67,
     "metadata": {},
     "output_type": "execute_result"
    }
   ],
   "source": [
    "' '.join([summ['summary_text'] for summ in res])"
   ]
  },
  {
   "cell_type": "code",
   "execution_count": 68,
   "metadata": {},
   "outputs": [],
   "source": [
    "text = ' '.join([summ['summary_text'] for summ in res])"
   ]
  },
  {
   "cell_type": "markdown",
   "metadata": {},
   "source": [
    "# 5. Output to Text File"
   ]
  },
  {
   "cell_type": "code",
   "execution_count": 69,
   "metadata": {},
   "outputs": [
    {
     "data": {
      "text/plain": [
       "'the first article in the ML101 series by PTU AI CLUB introduces you to the world of machine learning and its infinite use cases . in this article we will be diving a little deeper into this world by exploring the types of machines and the ethical aspects related to machine learning . the concept of semi-supervised learning is introduced . semi-supervised learning is where a student is under the supervision of an instructor . if that student is self-analyzing the same concept, it comes under unsupervised learning . the goal of reinforcement learning agent is to maximize the rewards . machine learning has the power to revolutionize the way we live our lives and interact with the world around us . a world where financial fraud is detected and prevented in real-time, making our financial systems more secure than ever before . it’s important to consider the potential ethical implications and risks associated with machine learning .'"
      ]
     },
     "execution_count": 69,
     "metadata": {},
     "output_type": "execute_result"
    }
   ],
   "source": [
    "text"
   ]
  },
  {
   "cell_type": "code",
   "execution_count": 70,
   "metadata": {},
   "outputs": [],
   "source": [
    "with open('blogsummary.txt', 'w') as f:\n",
    "    f.write(text)"
   ]
  },
  {
   "cell_type": "code",
   "execution_count": null,
   "metadata": {},
   "outputs": [],
   "source": []
  }
 ],
 "metadata": {
  "kernelspec": {
   "display_name": "Python 3",
   "language": "python",
   "name": "python3"
  },
  "language_info": {
   "codemirror_mode": {
    "name": "ipython",
    "version": 3
   },
   "file_extension": ".py",
   "mimetype": "text/x-python",
   "name": "python",
   "nbconvert_exporter": "python",
   "pygments_lexer": "ipython3",
   "version": "3.11.5"
  }
 },
 "nbformat": 4,
 "nbformat_minor": 2
}
